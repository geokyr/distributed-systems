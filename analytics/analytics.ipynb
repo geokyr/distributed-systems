{
 "cells": [
  {
   "attachments": {},
   "cell_type": "markdown",
   "metadata": {},
   "source": [
    "# Imports"
   ]
  },
  {
   "cell_type": "code",
   "execution_count": null,
   "metadata": {},
   "outputs": [],
   "source": [
    "import matplotlib.pyplot as plt\n",
    "import re"
   ]
  },
  {
   "attachments": {},
   "cell_type": "markdown",
   "metadata": {},
   "source": [
    "# Results Parser"
   ]
  },
  {
   "cell_type": "code",
   "execution_count": null,
   "metadata": {},
   "outputs": [],
   "source": [
    "throughput_dict_five = {}\n",
    "blocktime_dict_five = {}\n",
    "throughput_dict_ten = {}\n",
    "blocktime_dict_ten = {}\n",
    "\n",
    "files_names_five= ['5node0.txt', '5node1.txt', '5node2.txt', '5node3.txt', '5node4.txt']\n",
    "files_names_ten= ['10node0.txt', '10node1.txt', '10node2.txt', '10node3.txt', '10node4.txt', '10node5.txt', '10node6.txt', '10node7.txt', '10node8.txt', '10node9.txt']\n",
    "\n",
    "for file in files_names_five:\n",
    "    f = open('test/results/' +str(file), 'r')\n",
    "    for line in f:\n",
    "        line = line.strip()\n",
    "        if line.startswith('Throughput'):\n",
    "            throughput = float(line.split(': ')[1])\n",
    "        elif line.startswith('Block time'):\n",
    "            block_time = float(line.split(': ')[1])\n",
    "        elif line.startswith('Capacity'):\n",
    "            capacity = int(line.split(': ')[1])\n",
    "        elif line.startswith('Difficulty'):\n",
    "            difficulty = int(line.split(': ')[1])\n",
    "            key = str((capacity, difficulty))\n",
    "            if key not in throughput_dict_five:\n",
    "                throughput_dict_five[key] = throughput\n",
    "                blocktime_dict_five[key] = block_time\n",
    "            else:\n",
    "                throughput_dict_five[key] += throughput\n",
    "                blocktime_dict_five[key] += block_time\n",
    "\n",
    "for file2 in files_names_ten:\n",
    "    f = open('test/results/' +str(file2), 'r')\n",
    "    for line in f:\n",
    "        line = line.strip()\n",
    "        if line.startswith('Throughput'):\n",
    "            throughput = float(line.split(': ')[1])\n",
    "        elif line.startswith('Block time'):\n",
    "            block_time = float(line.split(': ')[1])\n",
    "        elif line.startswith('Capacity'):\n",
    "            capacity = int(line.split(': ')[1])\n",
    "        elif line.startswith('Difficulty'):\n",
    "            difficulty = int(line.split(': ')[1])\n",
    "            key = str((capacity, difficulty))\n",
    "            if key not in throughput_dict_ten:\n",
    "                throughput_dict_ten[key] = throughput\n",
    "                blocktime_dict_ten[key] = block_time\n",
    "            else:\n",
    "                throughput_dict_ten[key] += throughput\n",
    "                blocktime_dict_ten[key] += block_time\n",
    "                    \n",
    "\n",
    "for key in throughput_dict_five:\n",
    "    throughput_dict_five[key] /= 5\n",
    "    blocktime_dict_five[key] /= 5\n",
    "\n",
    "for key in throughput_dict_ten:\n",
    "    throughput_dict_ten[key] /= 10\n",
    "    blocktime_dict_ten[key] /= 10\n",
    "\n",
    "# sort the dictionary by key\n",
    "throughput_dict_five = dict(sorted(throughput_dict_five.items(), key=lambda x: tuple(map(int, reversed(x[0][1:-1].split(','))))))\n",
    "blocktime_dict_five = dict(sorted(blocktime_dict_five.items(), key=lambda x: tuple(map(int, reversed(x[0][1:-1].split(','))))))\n",
    "throughput_dict_ten = dict(sorted(throughput_dict_ten.items(), key=lambda x: tuple(map(int, reversed(x[0][1:-1].split(','))))))\n",
    "blocktime_dict_ten = dict(sorted(blocktime_dict_ten.items(), key=lambda x: tuple(map(int, reversed(x[0][1:-1].split(','))))))"
   ]
  },
  {
   "attachments": {},
   "cell_type": "markdown",
   "metadata": {},
   "source": [
    "# Capacity and Difficulty"
   ]
  },
  {
   "cell_type": "code",
   "execution_count": null,
   "metadata": {},
   "outputs": [],
   "source": [
    "custom_labels = []\n",
    "\n",
    "for key in throughput_dict_five.keys():\n",
    "    integers = re.findall(r\"\\d+\", key)\n",
    "    label = 'C: ' + integers[0] + ', D: ' + integers[1]\n",
    "    custom_labels.append(label)\n",
    "\n",
    "# plot the two throughput dictionaries on the same graph\n",
    "plt.rcParams[\"font.family\"] = \"cmr10\"\n",
    "plt.rcParams[\"axes.formatter.use_mathtext\"] = True\n",
    "x = list(custom_labels)\n",
    "y = list(throughput_dict_five.values())\n",
    "plt.plot(x, y, marker = 'o', color = 'tab:blue', linewidth = 1)\n",
    "x = list(custom_labels)\n",
    "y = list(throughput_dict_ten.values())\n",
    "plt.plot(x, y, marker = 'o', color = 'tab:orange', linewidth = 1)\n",
    "plt.legend(['Throughput for 5 nodes', 'Throughput for 10 nodes'])\n",
    "plt.show()\n",
    "\n",
    "# plot the two block time dictionaries on the same graph\n",
    "plt.rcParams[\"font.family\"] = \"cmr10\"\n",
    "plt.rcParams[\"axes.formatter.use_mathtext\"] = True\n",
    "x = list(custom_labels)\n",
    "y = list(blocktime_dict_five.values())\n",
    "plt.plot(x, y, marker = 'o', color = 'tab:blue', linewidth = 1)\n",
    "x = list(custom_labels)\n",
    "y = list(blocktime_dict_ten.values())\n",
    "plt.plot(x, y, marker = 'o',  color = 'tab:orange', linewidth = 1)\n",
    "plt.legend(['Block time for 5 nodes', 'Block time for 10 nodes'])\n",
    "plt.show()"
   ]
  },
  {
   "attachments": {},
   "cell_type": "markdown",
   "metadata": {},
   "source": [
    "# Number of Nodes"
   ]
  },
  {
   "cell_type": "code",
   "execution_count": null,
   "metadata": {},
   "outputs": [],
   "source": [
    "colors = 2 * ['tab:blue', 'tab:orange', 'tab:green', 'tab:olive', 'tab:purple', 'tab:cyan']\n",
    "\n",
    "# plot the throughput for each key in the throughput_dict_five and throughput_dict_ten\n",
    "plt.rcParams[\"font.family\"] = \"cmr10\"\n",
    "plt.rcParams[\"axes.formatter.use_mathtext\"] = True\n",
    "for key in throughput_dict_five:\n",
    "    x = [5, 10]\n",
    "    y = [throughput_dict_five[key], throughput_dict_ten[key]]\n",
    "    plt.plot(x, y, marker = 'o', linewidth = 1, color = colors.pop())\n",
    "    plt.legend(custom_labels)\n",
    "plt.xticks([5, 10])\n",
    "plt.xlim(4,11)\n",
    "plt.show()\n",
    "\n",
    "# plot the block time for each key in the blocktime_dict_five and blocktime_dict_ten\n",
    "plt.rcParams[\"font.family\"] = \"cmr10\"\n",
    "plt.rcParams[\"axes.formatter.use_mathtext\"] = True\n",
    "for key in blocktime_dict_five:\n",
    "    x = [5, 10]\n",
    "    y = [blocktime_dict_five[key], blocktime_dict_ten[key]]\n",
    "    plt.plot(x, y, marker = 'o', linewidth = 1, color = colors.pop())\n",
    "    plt.legend(custom_labels)\n",
    "plt.xticks([5, 10])\n",
    "plt.xlim(4,11)\n",
    "plt.show()"
   ]
  }
 ],
 "metadata": {
  "kernelspec": {
   "display_name": "Python 3",
   "language": "python",
   "name": "python3"
  },
  "language_info": {
   "codemirror_mode": {
    "name": "ipython",
    "version": 3
   },
   "file_extension": ".py",
   "mimetype": "text/x-python",
   "name": "python",
   "nbconvert_exporter": "python",
   "pygments_lexer": "ipython3",
   "version": "3.10.10"
  },
  "orig_nbformat": 4
 },
 "nbformat": 4,
 "nbformat_minor": 2
}
